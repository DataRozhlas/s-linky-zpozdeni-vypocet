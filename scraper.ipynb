{
 "cells": [
  {
   "cell_type": "code",
   "execution_count": 46,
   "metadata": {},
   "outputs": [],
   "source": [
    "import requests\n",
    "from bs4 import BeautifulSoup\n",
    "import time\n",
    "import datetime"
   ]
  },
  {
   "cell_type": "code",
   "execution_count": 50,
   "metadata": {},
   "outputs": [
    {
     "data": {
      "text/plain": [
       "1520953935.8713367"
      ]
     },
     "execution_count": 50,
     "metadata": {},
     "output_type": "execute_result"
    }
   ],
   "source": [
    "time.time()"
   ]
  },
  {
   "cell_type": "code",
   "execution_count": 40,
   "metadata": {},
   "outputs": [],
   "source": [
    "vlaky = [2500,  2501,  2502,  2503,  2504,  2505,  2506,  2507,  2508,  2509,  2510,  2511,  2512,  2513,  2514,  2515,  2516,  2517,  2518,  2519,  2520,  2521,  2522,  2523,  2524,  2525,  2526,  2527,  2528,  2529,  2530,  2531,  2532,  2533,  2534,  2535,  2536,  2537,  2538,  2539,  2540,  2541,  2542,  2543,  2544,  2545,  2546,  2547,  2548,  2549,  2550,  2551,  2552,  2553,  2554,  2555,  2556,  2557,  2558,  2559,  2560,  2561,  2562,  2563,  2564,  2565,  2566,  2567,  2568,  2569,  2570,  2571,  2572,  2573,  2574,  2575,  2577,  2581,  5800,  5801,  5802,  5803,  5804,  5806,  5807,  5808,  5810,  5811,  5812,  5813,  5815,  5816,  5818,  5819,  5820,  5821,  5822,  5823,  5824,  5825,  5826,  5827,  5828,  5829,  5831,  5832,  5833,  5834,  5835,  5836,  5837,  5838,  5839,  5840,  5841,  5842,  5850,  5851,  5852,  5853,  5854,  5855,  5857,  5860,  5871,  5872,  5873,  5874,  5875,  5876,  5877,  5878,  5879,  5881,  5904,  6038,  6057,  6059,  6401,  6402,  6404,  6443,  6900,  6901,  6902,  6903,  6904,  6905,  6906,  6907,  6908,  6909,  6910,  6911,  6912,  6913,  6914,  6915,  6916,  6917,  6918,  6919,  6920,  6921,  6922,  6923,  6924,  6925,  6926,  6927,  6928,  6983,  6988,  8600,  8601,  8602,  8603,  8604,  8605,  8606,  8607,  8608,  8609,  8610,  8611,  8612,  8613,  8614,  8615,  8617,  8800,  8801,  8802,  8803,  8804,  8805,  8806,  8807,  8808,  8809,  8810,  8811,  8812,  8813,  8814,  8815,  8816,  8817,  8818,  8819,  8820,  8821,  8822,  8823,  8824,  8825,  8826,  8827,  8828,  8829,  8830,  8831,  8832,  8833,  8834,  8835,  8836,  8837,  8838,  8839,  8840,  8841,  8842,  8843,  8844,  8845,  8846,  8847,  8848,  8849,  8850,  8851,  8852,  8853,  8854,  8855,  8856,  8857,  8858,  8859,  8860,  8861,  8862,  8863,  8864,  8865,  8866,  8867,  8868,  8869,  8870,  8871,  8872,  8873,  8874,  8875,  8877,  9100,  9101,  9102,  9103,  9104,  9105,  9106,  9107,  9108,  9109,  9110,  9111,  9112,  9113,  9114,  9115,  9116,  9120,  9122,  9123,  9124,  9125,  9126,  9127,  9128,  9129,  9130,  9131,  9132,  9133,  9134,  9135,  9136,  9137,  9138,  9139,  9140,  9141,  9142,  9143,  9145,  9147,  9148,  9149,  9150,  9151,  9153,  9155,  9180,  9300,  9301,  9302,  9303,  9304,  9305,  9306,  9307,  9308,  9309,  9310,  9311,  9312,  9313,  9314,  9315,  9316,  9317,  9318,  9319,  9320,  9321,  9322,  9323,  9324,  9325,  9326,  9327,  9328,  9329,  9330,  9331,  9332,  9333,  9334,  9335,  9336,  9337,  9338,  9339,  9340,  9341,  9342,  9343,  9344,  9345,  9346,  9347,  9348,  9349,  9350,  9351,  9352,  9353,  9354,  9355,  9356,  9357,  9358,  9359,  9360,  9361,  9362,  9363,  9365,  9461,  9463,  9480,  9481,  9600,  9601,  9602,  9603,  9604,  9605,  9606,  9607,  9608,  9609,  9610,  9611,  9612,  9613,  9614,  9615,  9616,  9617,  9618,  9619,  9620,  9621,  9622,  9623,  9624,  9625,  9626,  9627,  9628,  9629,  9630,  9631,  9632,  9633,  9634,  9635,  9636,  9637,  9638,  9639,  9640,  9641,  9642,  9643,  9644,  9645,  9646,  9647,  9648,  9649,  9650,  9651,  9652,  9653,  9654,  9655,  9656,  9657,  9658,  9659,  9660,  9661,  9662,  9663,  9664,  9666,  9900,  9902,  9903,  9904,  9905,  9907,  9908,  9909,  9910,  9911,  9912,  9913,  9914,  9915,  9916,  9917,  9918,  9919,  9920,  9921,  9922,  9923,  9924,  9925,  9926,  9927,  9929,  9931,  9933,  9935,  9940,  9941,  9942,  9943,  9944,  9945,  9946,  9947,  9948,  9949,  9950,  9951,  9952,  9953,  9954,  9955,  9956,  9957,  9958,  9959,  9960,  9961,  9962,  9963,  9964,  9965,  9966,  9967,  9968,  9970,  9971,  9972,  9973,  9974,  9975,  9976]"
   ]
  },
  {
   "cell_type": "code",
   "execution_count": 49,
   "metadata": {},
   "outputs": [
    {
     "ename": "SyntaxError",
     "evalue": "invalid syntax (<ipython-input-49-74dd213a4eea>, line 19)",
     "output_type": "error",
     "traceback": [
      "\u001b[1;36m  File \u001b[1;32m\"<ipython-input-49-74dd213a4eea>\"\u001b[1;36m, line \u001b[1;32m19\u001b[0m\n\u001b[1;33m    print({'tstamp': time.time(), 'vlak_cislo': train_id, train'status': stav, 'zpozdeni': delay})\u001b[0m\n\u001b[1;37m                                                                      ^\u001b[0m\n\u001b[1;31mSyntaxError\u001b[0m\u001b[1;31m:\u001b[0m invalid syntax\n"
     ]
    }
   ],
   "source": [
    "def harvest_train(train_id):\n",
    "    r = requests.get('https://www.cd.cz/vlak/' + str(train_id))\n",
    "    soup = BeautifulSoup(r.text, 'html.parser')\n",
    "    # je zrovna na ceste?\n",
    "    stav = soup.find('p', class_='situation')\n",
    "    if stav is not None:\n",
    "        stav = stav.text\n",
    "    else:\n",
    "        return\n",
    "    \n",
    "    # zpozdeni?\n",
    "    delay = soup.find('div', class_='train-delay')\n",
    "    if delay is not None:\n",
    "        delay = delay.get('data-delay')\n",
    "    else:\n",
    "        delay = None\n",
    "    \n",
    "    # zapsat\n",
    "    print({'tstamp': time.time(), 'vlak_cislo': train_id, 'train_status': stav, 'zpozdeni': delay})"
   ]
  },
  {
   "cell_type": "code",
   "execution_count": 45,
   "metadata": {},
   "outputs": [
    {
     "name": "stdout",
     "output_type": "stream",
     "text": [
      "{'status': 'Poslední známá poloha Praha-Vršovice / Odjezd 13.3.2018 15:48', 'zpozdeni': '0'}\n",
      "{'status': 'Poslední známá poloha Benešov u Prahy / příjezd 13.3.2018 15:37', 'zpozdeni': '-1'}\n",
      "{'status': 'Poslední známá poloha Mnichovice / Odjezd 13.3.2018 15:49', 'zpozdeni': '5'}\n",
      "{'status': 'Poslední známá poloha Mnichovice / Odjezd 13.3.2018 15:49', 'zpozdeni': '5'}\n",
      "{'status': 'Poslední známá poloha Praha-Hostivař / Odjezd 13.3.2018 15:49', 'zpozdeni': '-1'}\n",
      "{'status': 'Poslední známá poloha Mstětice / Odjezd 13.3.2018 15:48', 'zpozdeni': '8'}\n",
      "{'status': 'Poslední známá poloha Kamenné Zboží / Odjezd 13.3.2018 15:47', 'zpozdeni': '3'}\n",
      "{'status': 'Poslední známá poloha Poděbrady / Odjezd 13.3.2018 15:49', 'zpozdeni': '2'}\n",
      "{'status': 'Poslední známá poloha Dolní Zálezly / Odjezd 13.3.2018 15:48', 'zpozdeni': '5'}\n",
      "{'status': 'Poslední známá poloha Libčice n.Vlt.-Letky / příjezd 13.3.2018 15:50', 'zpozdeni': '-1'}\n",
      "{'status': 'Poslední známá poloha Dolní Beřkovice / Odjezd 13.3.2018 15:46', 'zpozdeni': '3'}\n",
      "{'status': 'Poslední známá poloha Roudnice nad Labem / Odjezd 13.3.2018 15:49', 'zpozdeni': '0'}\n",
      "{'status': 'Poslední známá poloha Praha-Podbaba / Odjezd 13.3.2018 15:50', 'zpozdeni': '1'}\n",
      "{'status': 'Poslední známá poloha Zadní Třebaň / příjezd 13.3.2018 15:50', 'zpozdeni': '7'}\n",
      "{'status': 'Poslední známá poloha Praha-Smíchov / Odjezd 13.3.2018 15:50', 'zpozdeni': '0'}\n",
      "{'status': 'Poslední známá poloha Pha-Smíchov již.zhl. / Odjezd 13.3.2018 15:50', 'zpozdeni': '5'}\n",
      "{'status': 'Poslední známá poloha Zadní Třebaň / Odjezd 13.3.2018 15:50', 'zpozdeni': '5'}\n",
      "{'status': 'Poslední známá poloha Praha hl.n. / Odjezd 13.3.2018 15:44', 'zpozdeni': '0'}\n",
      "{'status': 'Poslední známá poloha Praha-Kolovraty / Odjezd 13.3.2018 15:49', 'zpozdeni': '1'}\n",
      "{'status': 'Poslední známá poloha Světice / Odjezd 13.3.2018 15:49', 'zpozdeni': '1'}\n",
      "{'status': 'Poslední známá poloha Praha hl.n. / Odjezd 13.3.2018 15:48', 'zpozdeni': '1'}\n",
      "{'status': 'Poslední známá poloha Čelákovice / Odjezd 13.3.2018 15:46', 'zpozdeni': '1'}\n",
      "{'status': 'Poslední známá poloha Kolín / příjezd 13.3.2018 15:42', 'zpozdeni': '1'}\n",
      "{'status': 'Poslední známá poloha Praha-D.Počernice / Odjezd 13.3.2018 15:48', 'zpozdeni': '1'}\n",
      "{'status': 'Poslední známá poloha Tatce / Odjezd 13.3.2018 15:51', 'zpozdeni': '2'}\n",
      "{'status': 'Poslední známá poloha Poříčany / příjezd 13.3.2018 15:50', 'zpozdeni': '3'}\n",
      "{'status': 'Poslední známá poloha Odb.Blatov / Odjezd 13.3.2018 15:50', 'zpozdeni': '0'}\n",
      "{'status': 'Poslední známá poloha Praha Masarykovo n. / příjezd 13.3.2018 15:50', 'zpozdeni': '-1'}\n",
      "{'status': 'Poslední známá poloha Kralupy nad Vltavou / příjezd 13.3.2018 15:45', 'zpozdeni': '0'}\n",
      "{'status': 'Poslední známá poloha Úvaly / Odjezd 13.3.2018 15:42', 'zpozdeni': '0'}\n",
      "{'status': 'Poslední známá poloha Praha hl.n. / Odjezd 13.3.2018 15:47', 'zpozdeni': '1'}\n",
      "{'status': 'Poslední známá poloha Řevnice / příjezd 13.3.2018 15:51', 'zpozdeni': '0'}\n",
      "{'status': 'Poslední známá poloha Černošice / příjezd 13.3.2018 15:51', 'zpozdeni': '0'}\n",
      "{'status': 'Poslední známá poloha Výh.Vyšehrad / Odjezd 13.3.2018 15:51', 'zpozdeni': '1'}\n",
      "{'status': 'Poslední známá poloha Úvaly / příjezd 13.3.2018 15:48', 'zpozdeni': '0'}\n",
      "elapsed 138.615234375\n"
     ]
    }
   ],
   "source": [
    "t0 = time.time()\n",
    "for vlak in vlaky:\n",
    "    harvest_train(vlak)\n",
    "t1 = time.time()\n",
    "print('elapsed', t1-t0)"
   ]
  }
 ],
 "metadata": {
  "kernelspec": {
   "display_name": "Python 3",
   "language": "python",
   "name": "python3"
  },
  "language_info": {
   "codemirror_mode": {
    "name": "ipython",
    "version": 3
   },
   "file_extension": ".py",
   "mimetype": "text/x-python",
   "name": "python",
   "nbconvert_exporter": "python",
   "pygments_lexer": "ipython3",
   "version": "3.6.3"
  }
 },
 "nbformat": 4,
 "nbformat_minor": 2
}
